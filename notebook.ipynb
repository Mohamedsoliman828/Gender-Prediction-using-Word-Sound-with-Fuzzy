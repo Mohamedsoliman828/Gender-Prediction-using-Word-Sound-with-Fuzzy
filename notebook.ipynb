{
 "cells": [
  {
   "cell_type": "markdown",
   "metadata": {
    "dc": {
     "key": "3"
    },
    "deletable": false,
    "run_control": {
     "frozen": true
    },
    "tags": [
     "context"
    ]
   },
   "source": [
    "## 1. Sound it out!\n",
    "<p>Grey and Gray. Colour and Color. Words like these have been the cause of many heated arguments between Brits and Americans. Accents (and jokes) aside, there are many words that are pronounced the same way but have different spellings. While it is easy for us to realize their equivalence, basic programming commands will fail to equate such two strings. </p>\n",
    "<p>More extreme than word spellings are names because people have more flexibility in choosing to spell a name in a certain way. To some extent, tradition sometimes governs the way a name is spelled, which limits the number of variations of any given English name. But if we consider global names and their associated English spellings, you can only imagine how many ways they can be spelled out. </p>\n",
    "<p>One way to tackle this challenge creating a program that checks if two strings sound the same, instead of checking for equivalence in spellings. We'll do that here using fuzzy name matching.</p>"
   ]
  },
  {
   "cell_type": "code",
   "execution_count": 13,
   "metadata": {
    "dc": {
     "key": "3"
    },
    "tags": [
     "sample_code"
    ]
   },
   "outputs": [
    {
     "name": "stdout",
     "output_type": "stream",
     "text": [
      "FASY\n",
      "FASY\n",
      "FASY\n"
     ]
    }
   ],
   "source": [
    "# Importing the fuzzy package\n",
    "import fuzzy\n",
    "# Exploring the output of fuzzy.nysiis\n",
    "print(fuzzy.nysiis('fuzzy'))\n",
    "# Testing equivalence of similar sounding words\n",
    "print(fuzzy.nysiis('fuzzy'))\n",
    "print(fuzzy.nysiis('fozzy'))\n"
   ]
  },
  {
   "cell_type": "markdown",
   "metadata": {
    "dc": {
     "key": "10"
    },
    "deletable": false,
    "run_control": {
     "frozen": true
    },
    "tags": [
     "context"
    ]
   },
   "source": [
    "## 2. Authoring the authors\n",
    "<p>The New York Times puts out a weekly list of best-selling books from different genres, and which has been published since the 1930’s.  I’ll focus on Children’s Picture Books, and analyze the gender distribution of authors to see if there have been changes over time. I'll begin by reading in the data on the best selling authors from 2008 to 2017.</p>"
   ]
  },
  {
   "cell_type": "code",
   "execution_count": 14,
   "metadata": {
    "dc": {
     "key": "10"
    },
    "tags": [
     "sample_code"
    ]
   },
   "outputs": [
    {
     "name": "stdout",
     "output_type": "stream",
     "text": [
      "0      Adam\n",
      "1     Emily\n",
      "2      Drew\n",
      "3    Andrea\n",
      "4    Andrea\n",
      "Name: first_name, dtype: object\n"
     ]
    }
   ],
   "source": [
    "# Importing the pandas module\n",
    "import pandas as pd\n",
    "# Reading in datasets/nytkids_yearly.csv, which is semicolon delimited.\n",
    "author_df = pd.read_csv('datasets/nytkids_yearly.csv',delimiter=';')\n",
    "# Looping through author_df['Author'] to extract the authors first names\n",
    "first_name = []\n",
    "for name in author_df['Author']:\n",
    "    first_name.append(name.split(' ')[0])\n",
    "\n",
    "# Adding first_name as a column to author_df\n",
    "author_df['first_name']=first_name\n",
    "# Checking out the first few rows of author_df\n",
    "print(author_df['first_name'].head())"
   ]
  },
  {
   "cell_type": "markdown",
   "metadata": {
    "dc": {
     "key": "17"
    },
    "deletable": false,
    "run_control": {
     "frozen": true
    },
    "tags": [
     "context"
    ]
   },
   "source": [
    "## 3. Bring on the phonics\n",
    "<p> Now we will create a new column or list that contains the phonetic equivalent of every first name that we just extracted. </p>\n",
    "<p>To make sure we're on the right track, I'll compare the number of unique values in the <code>first_name</code> column and the number of unique values in the nysiis coded column. As a rule of thumb, the number of unique nysiis first names should be less than or equal to the number of actual first names.</p>"
   ]
  },
  {
   "cell_type": "code",
   "execution_count": 15,
   "metadata": {
    "dc": {
     "key": "17"
    },
    "tags": [
     "sample_code"
    ]
   },
   "outputs": [
    {
     "name": "stdout",
     "output_type": "stream",
     "text": [
      "There are 25 more unqiue values for first_name than nysiis_name\n"
     ]
    }
   ],
   "source": [
    "# Importing numpy\n",
    "import numpy as np\n",
    "# Looping through author's first names to create the nysiis (fuzzy) equivalent\n",
    "nysiis_name = []\n",
    "for first_name in author_df['first_name']:\n",
    "    nysiis_name.append(fuzzy.nysiis(first_name))\n",
    "# Adding nysiis_name as a column to author_df\n",
    "author_df['nysiis_name']=nysiis_name\n",
    "# Printing out the difference between unique firstnames and unique nysiis_names:\n",
    "diff=len(np.unique(author_df['first_name']))-len(np.unique(author_df['nysiis_name']))\n",
    "print('There are '+str(diff)+ ' more unqiue values for first_name than nysiis_name' )"
   ]
  },
  {
   "cell_type": "markdown",
   "metadata": {
    "dc": {
     "key": "24"
    },
    "deletable": false,
    "run_control": {
     "frozen": true
    },
    "tags": [
     "context"
    ]
   },
   "source": [
    "## 4. The inbetweeners\n",
    "<p>We'll use <code>babynames_nysiis.csv</code>, a dataset that is derived from <a href=\"https://www.ssa.gov/oact/babynames/limits.html\">the Social Security Administration’s baby name data</a>, to identify author genders. The dataset contains unique NYSIIS versions of baby names, and also includes the percentage of times the name appeared as a female name (<code>perc_female</code>) and the percentage of times it appeared as a male name (<code>perc_male</code>). </p>\n",
    "<p>We'll use this data to create a list of <code>gender</code>. Let's make the following simplifying assumption: For each name, if <code>perc_female</code> is greater than <code>perc_male</code> then assume the name is female, if <code>perc_female</code> is less than <code>perc_male</code> then assume it is a male name, and if the percentages are equal then it's a \"neutral\" name.</p>"
   ]
  },
  {
   "cell_type": "code",
   "execution_count": 16,
   "metadata": {
    "dc": {
     "key": "24"
    },
    "tags": [
     "sample_code"
    ]
   },
   "outputs": [
    {
     "name": "stdout",
     "output_type": "stream",
     "text": [
      "0    F\n",
      "1    F\n",
      "2    M\n",
      "3    M\n",
      "4    M\n",
      "Name: gender, dtype: object\n"
     ]
    }
   ],
   "source": [
    "# Reading in datasets/babynames_nysiis.csv, which is semicolon delimited.\n",
    "babies_df = pd.read_csv('datasets/babynames_nysiis.csv',delimiter=';')\n",
    "\n",
    "# Looping through babies_df to and filling up gender\n",
    "gender = []\n",
    "# ... YOUR CODE FOR TASK 4 ...\n",
    "for idx,baby in babies_df.iterrows():\n",
    "    if baby['perc_female']>baby['perc_male']:\n",
    "        gender.append('F')\n",
    "    elif baby['perc_female']<baby['perc_male']:\n",
    "        gender.append('M')\n",
    "    else :\n",
    "        gender.append('N')\n",
    "\n",
    "# Adding a gender column to babies_df\n",
    "babies_df['gender']=gender\n",
    "# Printing out the first few rows of babies_df\n",
    "print(babies_df['gender'].head())"
   ]
  },
  {
   "cell_type": "markdown",
   "metadata": {
    "dc": {
     "key": "31"
    },
    "deletable": false,
    "run_control": {
     "frozen": true
    },
    "tags": [
     "context"
    ]
   },
   "source": [
    "## 5. Matching\n",
    "<p>Now that we have identified the likely genders of different names, let's find author genders by searching for each author's name in the <code>babies_df</code> DataFrame, and extracting the associated gender. </p>"
   ]
  },
  {
   "cell_type": "code",
   "execution_count": 17,
   "metadata": {
    "dc": {
     "key": "31"
    },
    "tags": [
     "sample_code"
    ]
   },
   "outputs": [
    {
     "name": "stdout",
     "output_type": "stream",
     "text": [
      "F          395\n",
      "M          191\n",
      "Unknown      9\n",
      "N            8\n",
      "Name: author_gender, dtype: int64\n"
     ]
    }
   ],
   "source": [
    "# This function returns the location of an element in a_list.\n",
    "# Where an item does not exist, it returns -1.\n",
    "def locate_in_list(a_list, element):\n",
    "    loc_of_name = a_list.index(element) if element in a_list else -1\n",
    "    return(loc_of_name)\n",
    "\n",
    "# Looping through author_df['nysiis_name'] and appending the gender of each\n",
    "# author to author_gender.\n",
    "author_gender = []\n",
    "listt = list(babies_df['babynysiis'])\n",
    "for author in author_df['nysiis_name']:\n",
    "    temp=locate_in_list(listt,author)\n",
    "    if temp==-1:\n",
    "        author_gender.append('Unknown')\n",
    "    else:\n",
    "        author_gender.append(babies_df.iloc[temp,3])\n",
    "        \n",
    "# Adding author_gender to the author_df\n",
    "author_df['author_gender']=author_gender\n",
    "# Counting the author's genders\n",
    "print(author_df['author_gender'].value_counts())"
   ]
  },
  {
   "cell_type": "markdown",
   "metadata": {
    "dc": {
     "key": "38"
    },
    "deletable": false,
    "editable": false,
    "run_control": {
     "frozen": true
    },
    "tags": [
     "context"
    ]
   },
   "source": [
    "## 6. Tally up\n",
    "<p>From the results above see that there are more female authors on the New York Times best seller's list than male authors. Our dataset spans 2008 to 2017. Let's find out if there have been changes over time.</p>"
   ]
  },
  {
   "cell_type": "code",
   "execution_count": 18,
   "metadata": {
    "dc": {
     "key": "38"
    },
    "tags": [
     "sample_code"
    ]
   },
   "outputs": [
    {
     "name": "stdout",
     "output_type": "stream",
     "text": [
      "[8, 19, 27, 21, 21, 11, 21, 18, 25, 20]\n",
      "[15, 45, 48, 51, 46, 51, 34, 30, 32, 43]\n",
      "[1, 3, 0, 1, 0, 2, 1, 0, 0, 1]\n"
     ]
    }
   ],
   "source": [
    "# Creating a list of unique years, sorted in ascending order.\n",
    "years = sorted(author_df['Year'].unique())\n",
    "\n",
    "# Initializing lists\n",
    "males_by_yr = []\n",
    "females_by_yr = []\n",
    "unknown_by_yr = []\n",
    "\n",
    "# Looping through years to find the number of male, female and unknown authors per year\n",
    "for year in years:\n",
    "    temp_df = author_df[author_df['Year']==year]\n",
    "    males_by_yr.append(len(temp_df[temp_df['author_gender']=='M' ]))\n",
    "    females_by_yr.append(len(temp_df[temp_df['author_gender']=='F' ]))\n",
    "    unknown_by_yr.append(len(temp_df[temp_df['author_gender']=='Unknown']))\n",
    "\n",
    "    \n",
    "# Printing out yearly values to examine changes over time\n",
    "print(males_by_yr)\n",
    "print(females_by_yr)\n",
    "print(unknown_by_yr)"
   ]
  },
  {
   "cell_type": "markdown",
   "metadata": {
    "dc": {
     "key": "45"
    },
    "deletable": false,
    "editable": false,
    "run_control": {
     "frozen": true
    },
    "tags": [
     "context"
    ]
   },
   "source": [
    "## 7. Foreign-born authors?\n",
    "<p>Our gender data comes from social security applications of individuals born in the US. Hence, one possible explanation for why there are \"unknown\" genders associated with some author names is because these authors were foreign-born. While making this assumption, we should note that these are only a subset of foreign-born authors as others will have names that have a match in <code>baby_df</code> (and in the social security dataset). </p>\n",
    "<p>Using a bar chart, let's explore the trend of foreign-born authors with no name matches in the social security dataset.</p>"
   ]
  },
  {
   "cell_type": "code",
   "execution_count": 19,
   "metadata": {
    "dc": {
     "key": "45"
    }
   },
   "outputs": [
    {
     "name": "stdout",
     "output_type": "stream",
     "text": [
      "[2008, 2009, 2010, 2011, 2012, 2013, 2014, 2015, 2016, 2017]\n",
      "[1, 3, 0, 1, 0, 2, 1, 0, 0, 1]\n"
     ]
    }
   ],
   "source": [
    "print(years)\n",
    "print(unknown_by_yr)"
   ]
  },
  {
   "cell_type": "code",
   "execution_count": 20,
   "metadata": {
    "dc": {
     "key": "45"
    },
    "tags": [
     "sample_code"
    ]
   },
   "outputs": [
    {
     "data": {
      "image/png": "[encoded data removed]",
      "text/plain": [
       "<Figure size 432x288 with 1 Axes>"
      ]
     },
     "metadata": {
      "needs_background": "light"
     },
     "output_type": "display_data"
    }
   ],
   "source": [
    "# Importing matplotlib\n",
    "import matplotlib.pyplot as plt\n",
    "\n",
    "# This makes plots appear in the notebook\n",
    "%matplotlib inline\n",
    "\n",
    "# Plotting the bar chart\n",
    "plt.bar(years,unknown_by_yr)\n",
    "plt.title('unknown gender by year')\n",
    "plt.xlabel('years')\n",
    "#plt.xticks(rotation=90)\n",
    "plt.show()"
   ]
  },
  {
   "cell_type": "markdown",
   "metadata": {
    "dc": {
     "key": "52"
    },
    "deletable": false,
    "editable": false,
    "run_control": {
     "frozen": true
    },
    "tags": [
     "context"
    ]
   },
   "source": [
    "## 8. Raising the bar\n",
    "<p>What’s more exciting than a bar chart is a grouped bar chart. This type of chart is good for displaying <em>changes</em> over time while also <em>comparing</em> two or more groups. Let’s use a grouped bar chart to look at the distribution of male and female authors over time.</p>"
   ]
  },
  {
   "cell_type": "code",
   "execution_count": 21,
   "metadata": {
    "dc": {
     "key": "52"
    },
    "tags": [
     "sample_code"
    ]
   },
   "outputs": [
    {
     "data": {
      "text/plain": [
       "Text(0.5, 1.0, 'Authors by Gender')"
      ]
     },
     "execution_count": 21,
     "metadata": {},
     "output_type": "execute_result"
    },
    {
     "data": {
      "image/png": "[encoded data removed]",
      "text/plain": [
       "<Figure size 432x288 with 1 Axes>"
      ]
     },
     "metadata": {
      "needs_background": "light"
     },
     "output_type": "display_data"
    }
   ],
   "source": [
    "# Creating a new list, where 0.25 is added to each year\n",
    "years_shifted = [year+.25 for year in years]\n",
    "\n",
    "# Plotting males_by_yr by year\n",
    "plt.bar(years,males_by_yr,width=.25,color='lightblue')\n",
    "# Plotting females_by_yr by years_shifted\n",
    "plt.bar(years_shifted,females_by_yr,width=.25,color='pink')\n",
    "# [OPTIONAL] - Adding relevant Axes labels and Chart Title\n",
    "plt.xlabel('Years')\n",
    "plt.ylabel('No. Authors')\n",
    "plt.title('Authors by Gender')"
   ]
  }
 ],
 "metadata": {
  "celltoolbar": "Edit Metadata",
  "kernelspec": {
   "display_name": "Python 3",
   "language": "python",
   "name": "python3"
  },
  "language_info": {
   "codemirror_mode": {
    "name": "ipython",
    "version": 3
   },
   "file_extension": ".py",
   "mimetype": "text/x-python",
   "name": "python",
   "nbconvert_exporter": "python",
   "pygments_lexer": "ipython3",
   "version": "3.8.8"
  }
 },
 "nbformat": 4,
 "nbformat_minor": 2
}
